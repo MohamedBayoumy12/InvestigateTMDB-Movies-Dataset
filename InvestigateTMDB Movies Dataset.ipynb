{
 "cells": [
  {
   "cell_type": "markdown",
   "metadata": {},
   "source": [
    "\n",
    "\n",
    "# Project: Investigate a Dataset (TMDB movie data )\n",
    "\n",
    "## Table of Contents\n",
    "<ul>\n",
    "<li><a href=\"#intro\">Introduction</a></li>\n",
    "<li><a href=\"#wrangling\">Data Wrangling</a></li>\n",
    "<li><a href=\"#eda\">Exploratory Data Analysis</a></li>\n",
    "<li><a href=\"#conclusions\">Conclusions</a></li>\n",
    "</ul>"
   ]
  },
  {
   "cell_type": "markdown",
   "metadata": {},
   "source": [
    "<a id='intro'></a>\n",
    "## Introduction\n",
    "\n",
    ">This is a Dataset which gives us informations about (10866) movies and i will analyze & visualize it.   \n",
    ">The information the Dataset gives us:\n",
    ">(id, imdb_id, popularity, budget, revenue, original_title, cast,homepage, director, tagline, keywords, overview, runtime, genres, productioncompanies, release date, vote count, vote average, release_year)\n",
    "\n",
    ">My Questions for analysis:\n",
    "\n",
    "1. Top ten most popular actors\n",
    "2. Top 10 most profitable Movies \n",
    "3. Relation between Budget and Vote Average\n",
    "4. Top 10 most profitable genres \n",
    "5. Top 10 Directors with the highest ratings \n",
    "6. Relation between Budget and Revenue\n",
    "7. Relation between Release Years and Revenue\n",
    "8. In which years were the largest number of movies produced?\n",
    "9. Top ten production Companies that produced movies\n"
   ]
  },
  {
   "cell_type": "code",
   "execution_count": 69,
   "metadata": {},
   "outputs": [],
   "source": [
    "\n",
    "import pandas as pd\n",
    "import matplotlib.pyplot as plt\n",
    "import seaborn as sns\n",
    "import numpy as np\n"
   ]
  },
  {
   "cell_type": "markdown",
   "metadata": {},
   "source": [
    "<a id='wrangling'></a>\n",
    "## Data Wrangling\n",
    "\n",
    "### General Properties"
   ]
  },
  {
   "cell_type": "markdown",
   "metadata": {},
   "source": [
    "***Loading my Dataset*** "
   ]
  },
  {
   "cell_type": "code",
   "execution_count": 70,
   "metadata": {
    "scrolled": false
   },
   "outputs": [
    {
     "data": {
      "text/html": [
       "<div>\n",
       "<style scoped>\n",
       "    .dataframe tbody tr th:only-of-type {\n",
       "        vertical-align: middle;\n",
       "    }\n",
       "\n",
       "    .dataframe tbody tr th {\n",
       "        vertical-align: top;\n",
       "    }\n",
       "\n",
       "    .dataframe thead th {\n",
       "        text-align: right;\n",
       "    }\n",
       "</style>\n",
       "<table border=\"1\" class=\"dataframe\">\n",
       "  <thead>\n",
       "    <tr style=\"text-align: right;\">\n",
       "      <th></th>\n",
       "      <th>id</th>\n",
       "      <th>imdb_id</th>\n",
       "      <th>popularity</th>\n",
       "      <th>budget</th>\n",
       "      <th>revenue</th>\n",
       "      <th>original_title</th>\n",
       "      <th>cast</th>\n",
       "      <th>homepage</th>\n",
       "      <th>director</th>\n",
       "      <th>tagline</th>\n",
       "      <th>...</th>\n",
       "      <th>overview</th>\n",
       "      <th>runtime</th>\n",
       "      <th>genres</th>\n",
       "      <th>production_companies</th>\n",
       "      <th>release_date</th>\n",
       "      <th>vote_count</th>\n",
       "      <th>vote_average</th>\n",
       "      <th>release_year</th>\n",
       "      <th>budget_adj</th>\n",
       "      <th>revenue_adj</th>\n",
       "    </tr>\n",
       "  </thead>\n",
       "  <tbody>\n",
       "    <tr>\n",
       "      <th>0</th>\n",
       "      <td>135397</td>\n",
       "      <td>tt0369610</td>\n",
       "      <td>32.985763</td>\n",
       "      <td>150000000</td>\n",
       "      <td>1513528810</td>\n",
       "      <td>Jurassic World</td>\n",
       "      <td>Chris Pratt|Bryce Dallas Howard|Irrfan Khan|Vi...</td>\n",
       "      <td>http://www.jurassicworld.com/</td>\n",
       "      <td>Colin Trevorrow</td>\n",
       "      <td>The park is open.</td>\n",
       "      <td>...</td>\n",
       "      <td>Twenty-two years after the events of Jurassic ...</td>\n",
       "      <td>124</td>\n",
       "      <td>Action|Adventure|Science Fiction|Thriller</td>\n",
       "      <td>Universal Studios|Amblin Entertainment|Legenda...</td>\n",
       "      <td>6/9/15</td>\n",
       "      <td>5562</td>\n",
       "      <td>6.5</td>\n",
       "      <td>2015</td>\n",
       "      <td>1.379999e+08</td>\n",
       "      <td>1.392446e+09</td>\n",
       "    </tr>\n",
       "    <tr>\n",
       "      <th>1</th>\n",
       "      <td>76341</td>\n",
       "      <td>tt1392190</td>\n",
       "      <td>28.419936</td>\n",
       "      <td>150000000</td>\n",
       "      <td>378436354</td>\n",
       "      <td>Mad Max: Fury Road</td>\n",
       "      <td>Tom Hardy|Charlize Theron|Hugh Keays-Byrne|Nic...</td>\n",
       "      <td>http://www.madmaxmovie.com/</td>\n",
       "      <td>George Miller</td>\n",
       "      <td>What a Lovely Day.</td>\n",
       "      <td>...</td>\n",
       "      <td>An apocalyptic story set in the furthest reach...</td>\n",
       "      <td>120</td>\n",
       "      <td>Action|Adventure|Science Fiction|Thriller</td>\n",
       "      <td>Village Roadshow Pictures|Kennedy Miller Produ...</td>\n",
       "      <td>5/13/15</td>\n",
       "      <td>6185</td>\n",
       "      <td>7.1</td>\n",
       "      <td>2015</td>\n",
       "      <td>1.379999e+08</td>\n",
       "      <td>3.481613e+08</td>\n",
       "    </tr>\n",
       "    <tr>\n",
       "      <th>2</th>\n",
       "      <td>262500</td>\n",
       "      <td>tt2908446</td>\n",
       "      <td>13.112507</td>\n",
       "      <td>110000000</td>\n",
       "      <td>295238201</td>\n",
       "      <td>Insurgent</td>\n",
       "      <td>Shailene Woodley|Theo James|Kate Winslet|Ansel...</td>\n",
       "      <td>http://www.thedivergentseries.movie/#insurgent</td>\n",
       "      <td>Robert Schwentke</td>\n",
       "      <td>One Choice Can Destroy You</td>\n",
       "      <td>...</td>\n",
       "      <td>Beatrice Prior must confront her inner demons ...</td>\n",
       "      <td>119</td>\n",
       "      <td>Adventure|Science Fiction|Thriller</td>\n",
       "      <td>Summit Entertainment|Mandeville Films|Red Wago...</td>\n",
       "      <td>3/18/15</td>\n",
       "      <td>2480</td>\n",
       "      <td>6.3</td>\n",
       "      <td>2015</td>\n",
       "      <td>1.012000e+08</td>\n",
       "      <td>2.716190e+08</td>\n",
       "    </tr>\n",
       "    <tr>\n",
       "      <th>3</th>\n",
       "      <td>140607</td>\n",
       "      <td>tt2488496</td>\n",
       "      <td>11.173104</td>\n",
       "      <td>200000000</td>\n",
       "      <td>2068178225</td>\n",
       "      <td>Star Wars: The Force Awakens</td>\n",
       "      <td>Harrison Ford|Mark Hamill|Carrie Fisher|Adam D...</td>\n",
       "      <td>http://www.starwars.com/films/star-wars-episod...</td>\n",
       "      <td>J.J. Abrams</td>\n",
       "      <td>Every generation has a story.</td>\n",
       "      <td>...</td>\n",
       "      <td>Thirty years after defeating the Galactic Empi...</td>\n",
       "      <td>136</td>\n",
       "      <td>Action|Adventure|Science Fiction|Fantasy</td>\n",
       "      <td>Lucasfilm|Truenorth Productions|Bad Robot</td>\n",
       "      <td>12/15/15</td>\n",
       "      <td>5292</td>\n",
       "      <td>7.5</td>\n",
       "      <td>2015</td>\n",
       "      <td>1.839999e+08</td>\n",
       "      <td>1.902723e+09</td>\n",
       "    </tr>\n",
       "    <tr>\n",
       "      <th>4</th>\n",
       "      <td>168259</td>\n",
       "      <td>tt2820852</td>\n",
       "      <td>9.335014</td>\n",
       "      <td>190000000</td>\n",
       "      <td>1506249360</td>\n",
       "      <td>Furious 7</td>\n",
       "      <td>Vin Diesel|Paul Walker|Jason Statham|Michelle ...</td>\n",
       "      <td>http://www.furious7.com/</td>\n",
       "      <td>James Wan</td>\n",
       "      <td>Vengeance Hits Home</td>\n",
       "      <td>...</td>\n",
       "      <td>Deckard Shaw seeks revenge against Dominic Tor...</td>\n",
       "      <td>137</td>\n",
       "      <td>Action|Crime|Thriller</td>\n",
       "      <td>Universal Pictures|Original Film|Media Rights ...</td>\n",
       "      <td>4/1/15</td>\n",
       "      <td>2947</td>\n",
       "      <td>7.3</td>\n",
       "      <td>2015</td>\n",
       "      <td>1.747999e+08</td>\n",
       "      <td>1.385749e+09</td>\n",
       "    </tr>\n",
       "  </tbody>\n",
       "</table>\n",
       "<p>5 rows × 21 columns</p>\n",
       "</div>"
      ],
      "text/plain": [
       "       id    imdb_id  popularity     budget     revenue  \\\n",
       "0  135397  tt0369610   32.985763  150000000  1513528810   \n",
       "1   76341  tt1392190   28.419936  150000000   378436354   \n",
       "2  262500  tt2908446   13.112507  110000000   295238201   \n",
       "3  140607  tt2488496   11.173104  200000000  2068178225   \n",
       "4  168259  tt2820852    9.335014  190000000  1506249360   \n",
       "\n",
       "                 original_title  \\\n",
       "0                Jurassic World   \n",
       "1            Mad Max: Fury Road   \n",
       "2                     Insurgent   \n",
       "3  Star Wars: The Force Awakens   \n",
       "4                     Furious 7   \n",
       "\n",
       "                                                cast  \\\n",
       "0  Chris Pratt|Bryce Dallas Howard|Irrfan Khan|Vi...   \n",
       "1  Tom Hardy|Charlize Theron|Hugh Keays-Byrne|Nic...   \n",
       "2  Shailene Woodley|Theo James|Kate Winslet|Ansel...   \n",
       "3  Harrison Ford|Mark Hamill|Carrie Fisher|Adam D...   \n",
       "4  Vin Diesel|Paul Walker|Jason Statham|Michelle ...   \n",
       "\n",
       "                                            homepage          director  \\\n",
       "0                      http://www.jurassicworld.com/   Colin Trevorrow   \n",
       "1                        http://www.madmaxmovie.com/     George Miller   \n",
       "2     http://www.thedivergentseries.movie/#insurgent  Robert Schwentke   \n",
       "3  http://www.starwars.com/films/star-wars-episod...       J.J. Abrams   \n",
       "4                           http://www.furious7.com/         James Wan   \n",
       "\n",
       "                         tagline  ...  \\\n",
       "0              The park is open.  ...   \n",
       "1             What a Lovely Day.  ...   \n",
       "2     One Choice Can Destroy You  ...   \n",
       "3  Every generation has a story.  ...   \n",
       "4            Vengeance Hits Home  ...   \n",
       "\n",
       "                                            overview runtime  \\\n",
       "0  Twenty-two years after the events of Jurassic ...     124   \n",
       "1  An apocalyptic story set in the furthest reach...     120   \n",
       "2  Beatrice Prior must confront her inner demons ...     119   \n",
       "3  Thirty years after defeating the Galactic Empi...     136   \n",
       "4  Deckard Shaw seeks revenge against Dominic Tor...     137   \n",
       "\n",
       "                                      genres  \\\n",
       "0  Action|Adventure|Science Fiction|Thriller   \n",
       "1  Action|Adventure|Science Fiction|Thriller   \n",
       "2         Adventure|Science Fiction|Thriller   \n",
       "3   Action|Adventure|Science Fiction|Fantasy   \n",
       "4                      Action|Crime|Thriller   \n",
       "\n",
       "                                production_companies release_date vote_count  \\\n",
       "0  Universal Studios|Amblin Entertainment|Legenda...       6/9/15       5562   \n",
       "1  Village Roadshow Pictures|Kennedy Miller Produ...      5/13/15       6185   \n",
       "2  Summit Entertainment|Mandeville Films|Red Wago...      3/18/15       2480   \n",
       "3          Lucasfilm|Truenorth Productions|Bad Robot     12/15/15       5292   \n",
       "4  Universal Pictures|Original Film|Media Rights ...       4/1/15       2947   \n",
       "\n",
       "   vote_average  release_year    budget_adj   revenue_adj  \n",
       "0           6.5          2015  1.379999e+08  1.392446e+09  \n",
       "1           7.1          2015  1.379999e+08  3.481613e+08  \n",
       "2           6.3          2015  1.012000e+08  2.716190e+08  \n",
       "3           7.5          2015  1.839999e+08  1.902723e+09  \n",
       "4           7.3          2015  1.747999e+08  1.385749e+09  \n",
       "\n",
       "[5 rows x 21 columns]"
      ]
     },
     "execution_count": 70,
     "metadata": {},
     "output_type": "execute_result"
    }
   ],
   "source": [
    "\n",
    "df=pd.read_csv(\"tmdb-movies.csv\")\n",
    "df.head()"
   ]
  },
  {
   "cell_type": "code",
   "execution_count": 71,
   "metadata": {
    "scrolled": false
   },
   "outputs": [
    {
     "data": {
      "text/plain": [
       "['id',\n",
       " 'imdb_id',\n",
       " 'popularity',\n",
       " 'budget',\n",
       " 'revenue',\n",
       " 'original_title',\n",
       " 'cast',\n",
       " 'homepage',\n",
       " 'director',\n",
       " 'tagline',\n",
       " 'keywords',\n",
       " 'overview',\n",
       " 'runtime',\n",
       " 'genres',\n",
       " 'production_companies',\n",
       " 'release_date',\n",
       " 'vote_count',\n",
       " 'vote_average',\n",
       " 'release_year',\n",
       " 'budget_adj',\n",
       " 'revenue_adj']"
      ]
     },
     "execution_count": 71,
     "metadata": {},
     "output_type": "execute_result"
    }
   ],
   "source": [
    "#display names of columns\n",
    "list(df.columns.values)\n"
   ]
  },
  {
   "cell_type": "markdown",
   "metadata": {},
   "source": [
    "***The Dataset contains 10866 rows and 21 columns***"
   ]
  },
  {
   "cell_type": "code",
   "execution_count": 72,
   "metadata": {},
   "outputs": [
    {
     "data": {
      "text/plain": [
       "(10866, 21)"
      ]
     },
     "execution_count": 72,
     "metadata": {},
     "output_type": "execute_result"
    }
   ],
   "source": [
    "#diplay number of rows and columns \n",
    "df.shape"
   ]
  },
  {
   "cell_type": "code",
   "execution_count": 73,
   "metadata": {
    "scrolled": false
   },
   "outputs": [
    {
     "data": {
      "text/html": [
       "<div>\n",
       "<style scoped>\n",
       "    .dataframe tbody tr th:only-of-type {\n",
       "        vertical-align: middle;\n",
       "    }\n",
       "\n",
       "    .dataframe tbody tr th {\n",
       "        vertical-align: top;\n",
       "    }\n",
       "\n",
       "    .dataframe thead th {\n",
       "        text-align: right;\n",
       "    }\n",
       "</style>\n",
       "<table border=\"1\" class=\"dataframe\">\n",
       "  <thead>\n",
       "    <tr style=\"text-align: right;\">\n",
       "      <th></th>\n",
       "      <th>id</th>\n",
       "      <th>popularity</th>\n",
       "      <th>budget</th>\n",
       "      <th>revenue</th>\n",
       "      <th>runtime</th>\n",
       "      <th>vote_count</th>\n",
       "      <th>vote_average</th>\n",
       "      <th>release_year</th>\n",
       "      <th>budget_adj</th>\n",
       "      <th>revenue_adj</th>\n",
       "    </tr>\n",
       "  </thead>\n",
       "  <tbody>\n",
       "    <tr>\n",
       "      <th>count</th>\n",
       "      <td>10866.000000</td>\n",
       "      <td>10866.000000</td>\n",
       "      <td>1.086600e+04</td>\n",
       "      <td>1.086600e+04</td>\n",
       "      <td>10866.000000</td>\n",
       "      <td>10866.000000</td>\n",
       "      <td>10866.000000</td>\n",
       "      <td>10866.000000</td>\n",
       "      <td>1.086600e+04</td>\n",
       "      <td>1.086600e+04</td>\n",
       "    </tr>\n",
       "    <tr>\n",
       "      <th>mean</th>\n",
       "      <td>66064.177434</td>\n",
       "      <td>0.646441</td>\n",
       "      <td>1.462570e+07</td>\n",
       "      <td>3.982332e+07</td>\n",
       "      <td>102.070863</td>\n",
       "      <td>217.389748</td>\n",
       "      <td>5.974922</td>\n",
       "      <td>2001.322658</td>\n",
       "      <td>1.755104e+07</td>\n",
       "      <td>5.136436e+07</td>\n",
       "    </tr>\n",
       "    <tr>\n",
       "      <th>std</th>\n",
       "      <td>92130.136561</td>\n",
       "      <td>1.000185</td>\n",
       "      <td>3.091321e+07</td>\n",
       "      <td>1.170035e+08</td>\n",
       "      <td>31.381405</td>\n",
       "      <td>575.619058</td>\n",
       "      <td>0.935142</td>\n",
       "      <td>12.812941</td>\n",
       "      <td>3.430616e+07</td>\n",
       "      <td>1.446325e+08</td>\n",
       "    </tr>\n",
       "    <tr>\n",
       "      <th>min</th>\n",
       "      <td>5.000000</td>\n",
       "      <td>0.000065</td>\n",
       "      <td>0.000000e+00</td>\n",
       "      <td>0.000000e+00</td>\n",
       "      <td>0.000000</td>\n",
       "      <td>10.000000</td>\n",
       "      <td>1.500000</td>\n",
       "      <td>1960.000000</td>\n",
       "      <td>0.000000e+00</td>\n",
       "      <td>0.000000e+00</td>\n",
       "    </tr>\n",
       "    <tr>\n",
       "      <th>25%</th>\n",
       "      <td>10596.250000</td>\n",
       "      <td>0.207583</td>\n",
       "      <td>0.000000e+00</td>\n",
       "      <td>0.000000e+00</td>\n",
       "      <td>90.000000</td>\n",
       "      <td>17.000000</td>\n",
       "      <td>5.400000</td>\n",
       "      <td>1995.000000</td>\n",
       "      <td>0.000000e+00</td>\n",
       "      <td>0.000000e+00</td>\n",
       "    </tr>\n",
       "    <tr>\n",
       "      <th>50%</th>\n",
       "      <td>20669.000000</td>\n",
       "      <td>0.383856</td>\n",
       "      <td>0.000000e+00</td>\n",
       "      <td>0.000000e+00</td>\n",
       "      <td>99.000000</td>\n",
       "      <td>38.000000</td>\n",
       "      <td>6.000000</td>\n",
       "      <td>2006.000000</td>\n",
       "      <td>0.000000e+00</td>\n",
       "      <td>0.000000e+00</td>\n",
       "    </tr>\n",
       "    <tr>\n",
       "      <th>75%</th>\n",
       "      <td>75610.000000</td>\n",
       "      <td>0.713817</td>\n",
       "      <td>1.500000e+07</td>\n",
       "      <td>2.400000e+07</td>\n",
       "      <td>111.000000</td>\n",
       "      <td>145.750000</td>\n",
       "      <td>6.600000</td>\n",
       "      <td>2011.000000</td>\n",
       "      <td>2.085325e+07</td>\n",
       "      <td>3.369710e+07</td>\n",
       "    </tr>\n",
       "    <tr>\n",
       "      <th>max</th>\n",
       "      <td>417859.000000</td>\n",
       "      <td>32.985763</td>\n",
       "      <td>4.250000e+08</td>\n",
       "      <td>2.781506e+09</td>\n",
       "      <td>900.000000</td>\n",
       "      <td>9767.000000</td>\n",
       "      <td>9.200000</td>\n",
       "      <td>2015.000000</td>\n",
       "      <td>4.250000e+08</td>\n",
       "      <td>2.827124e+09</td>\n",
       "    </tr>\n",
       "  </tbody>\n",
       "</table>\n",
       "</div>"
      ],
      "text/plain": [
       "                  id    popularity        budget       revenue       runtime  \\\n",
       "count   10866.000000  10866.000000  1.086600e+04  1.086600e+04  10866.000000   \n",
       "mean    66064.177434      0.646441  1.462570e+07  3.982332e+07    102.070863   \n",
       "std     92130.136561      1.000185  3.091321e+07  1.170035e+08     31.381405   \n",
       "min         5.000000      0.000065  0.000000e+00  0.000000e+00      0.000000   \n",
       "25%     10596.250000      0.207583  0.000000e+00  0.000000e+00     90.000000   \n",
       "50%     20669.000000      0.383856  0.000000e+00  0.000000e+00     99.000000   \n",
       "75%     75610.000000      0.713817  1.500000e+07  2.400000e+07    111.000000   \n",
       "max    417859.000000     32.985763  4.250000e+08  2.781506e+09    900.000000   \n",
       "\n",
       "         vote_count  vote_average  release_year    budget_adj   revenue_adj  \n",
       "count  10866.000000  10866.000000  10866.000000  1.086600e+04  1.086600e+04  \n",
       "mean     217.389748      5.974922   2001.322658  1.755104e+07  5.136436e+07  \n",
       "std      575.619058      0.935142     12.812941  3.430616e+07  1.446325e+08  \n",
       "min       10.000000      1.500000   1960.000000  0.000000e+00  0.000000e+00  \n",
       "25%       17.000000      5.400000   1995.000000  0.000000e+00  0.000000e+00  \n",
       "50%       38.000000      6.000000   2006.000000  0.000000e+00  0.000000e+00  \n",
       "75%      145.750000      6.600000   2011.000000  2.085325e+07  3.369710e+07  \n",
       "max     9767.000000      9.200000   2015.000000  4.250000e+08  2.827124e+09  "
      ]
     },
     "execution_count": 73,
     "metadata": {},
     "output_type": "execute_result"
    }
   ],
   "source": [
    "#diplay Statistical information for each column\n",
    "df.describe()"
   ]
  },
  {
   "cell_type": "markdown",
   "metadata": {},
   "source": [
    "***Number of Duplicated rows*** "
   ]
  },
  {
   "cell_type": "code",
   "execution_count": 74,
   "metadata": {},
   "outputs": [
    {
     "data": {
      "text/plain": [
       "1"
      ]
     },
     "execution_count": 74,
     "metadata": {},
     "output_type": "execute_result"
    }
   ],
   "source": [
    "sum(df.duplicated())"
   ]
  },
  {
   "cell_type": "markdown",
   "metadata": {},
   "source": [
    "***Number of NAN values at each column***"
   ]
  },
  {
   "cell_type": "code",
   "execution_count": 75,
   "metadata": {
    "scrolled": false
   },
   "outputs": [
    {
     "data": {
      "text/plain": [
       "id                         0\n",
       "imdb_id                   10\n",
       "popularity                 0\n",
       "budget                     0\n",
       "revenue                    0\n",
       "original_title             0\n",
       "cast                      76\n",
       "homepage                7930\n",
       "director                  44\n",
       "tagline                 2824\n",
       "keywords                1493\n",
       "overview                   4\n",
       "runtime                    0\n",
       "genres                    23\n",
       "production_companies    1030\n",
       "release_date               0\n",
       "vote_count                 0\n",
       "vote_average               0\n",
       "release_year               0\n",
       "budget_adj                 0\n",
       "revenue_adj                0\n",
       "dtype: int64"
      ]
     },
     "execution_count": 75,
     "metadata": {},
     "output_type": "execute_result"
    }
   ],
   "source": [
    "df.isnull().sum()"
   ]
  },
  {
   "cell_type": "markdown",
   "metadata": {},
   "source": [
    "***Number of Unique values at each columns***"
   ]
  },
  {
   "cell_type": "code",
   "execution_count": 76,
   "metadata": {},
   "outputs": [
    {
     "data": {
      "text/plain": [
       "id                      10865\n",
       "imdb_id                 10855\n",
       "popularity              10814\n",
       "budget                    557\n",
       "revenue                  4702\n",
       "original_title          10571\n",
       "cast                    10719\n",
       "homepage                 2896\n",
       "director                 5067\n",
       "tagline                  7997\n",
       "keywords                 8804\n",
       "overview                10847\n",
       "runtime                   247\n",
       "genres                   2039\n",
       "production_companies     7445\n",
       "release_date             5909\n",
       "vote_count               1289\n",
       "vote_average               72\n",
       "release_year               56\n",
       "budget_adj               2614\n",
       "revenue_adj              4840\n",
       "dtype: int64"
      ]
     },
     "execution_count": 76,
     "metadata": {},
     "output_type": "execute_result"
    }
   ],
   "source": [
    "df.nunique()"
   ]
  },
  {
   "cell_type": "markdown",
   "metadata": {},
   "source": [
    "## After Wrangling data i found that:\n",
    "1. There are many columns that would not be useful at my analysis like:\n",
    "('id','imdb_id','overview','budget_adj', 'revenue_adj', 'tagline', 'runtime',)\n",
    "2. There is only one duplicated row and i will drop it\n",
    "3. There are many rows that have nan value and i will fill them \n",
    "4. Certain columns, like ‘cast’ and ‘genres’, contain multiple values separated by pipe (|)characters.\n",
    "5. There are many columns that contain zero value\n"
   ]
  },
  {
   "cell_type": "markdown",
   "metadata": {},
   "source": [
    "\n",
    "### Data Cleaning "
   ]
  },
  {
   "cell_type": "markdown",
   "metadata": {},
   "source": [
    "***Dropping the columns that not useful at analysis***"
   ]
  },
  {
   "cell_type": "code",
   "execution_count": 77,
   "metadata": {
    "scrolled": true
   },
   "outputs": [
    {
     "data": {
      "text/html": [
       "<div>\n",
       "<style scoped>\n",
       "    .dataframe tbody tr th:only-of-type {\n",
       "        vertical-align: middle;\n",
       "    }\n",
       "\n",
       "    .dataframe tbody tr th {\n",
       "        vertical-align: top;\n",
       "    }\n",
       "\n",
       "    .dataframe thead th {\n",
       "        text-align: right;\n",
       "    }\n",
       "</style>\n",
       "<table border=\"1\" class=\"dataframe\">\n",
       "  <thead>\n",
       "    <tr style=\"text-align: right;\">\n",
       "      <th></th>\n",
       "      <th>popularity</th>\n",
       "      <th>budget</th>\n",
       "      <th>revenue</th>\n",
       "      <th>original_title</th>\n",
       "      <th>cast</th>\n",
       "      <th>director</th>\n",
       "      <th>genres</th>\n",
       "      <th>production_companies</th>\n",
       "      <th>release_date</th>\n",
       "      <th>vote_count</th>\n",
       "      <th>vote_average</th>\n",
       "      <th>release_year</th>\n",
       "    </tr>\n",
       "  </thead>\n",
       "  <tbody>\n",
       "    <tr>\n",
       "      <th>0</th>\n",
       "      <td>32.985763</td>\n",
       "      <td>150000000</td>\n",
       "      <td>1513528810</td>\n",
       "      <td>Jurassic World</td>\n",
       "      <td>Chris Pratt|Bryce Dallas Howard|Irrfan Khan|Vi...</td>\n",
       "      <td>Colin Trevorrow</td>\n",
       "      <td>Action|Adventure|Science Fiction|Thriller</td>\n",
       "      <td>Universal Studios|Amblin Entertainment|Legenda...</td>\n",
       "      <td>6/9/15</td>\n",
       "      <td>5562</td>\n",
       "      <td>6.5</td>\n",
       "      <td>2015</td>\n",
       "    </tr>\n",
       "  </tbody>\n",
       "</table>\n",
       "</div>"
      ],
      "text/plain": [
       "   popularity     budget     revenue  original_title  \\\n",
       "0   32.985763  150000000  1513528810  Jurassic World   \n",
       "\n",
       "                                                cast         director  \\\n",
       "0  Chris Pratt|Bryce Dallas Howard|Irrfan Khan|Vi...  Colin Trevorrow   \n",
       "\n",
       "                                      genres  \\\n",
       "0  Action|Adventure|Science Fiction|Thriller   \n",
       "\n",
       "                                production_companies release_date  vote_count  \\\n",
       "0  Universal Studios|Amblin Entertainment|Legenda...       6/9/15        5562   \n",
       "\n",
       "   vote_average  release_year  \n",
       "0           6.5          2015  "
      ]
     },
     "execution_count": 77,
     "metadata": {},
     "output_type": "execute_result"
    }
   ],
   "source": [
    "df.drop(['id','imdb_id','overview','budget_adj', 'revenue_adj', 'tagline', 'runtime','homepage', \"keywords\"], axis = 1, inplace=True)\n",
    "df.head(1)"
   ]
  },
  {
   "cell_type": "markdown",
   "metadata": {},
   "source": [
    "***Dropping Duplicated rows***"
   ]
  },
  {
   "cell_type": "code",
   "execution_count": 78,
   "metadata": {
    "scrolled": true
   },
   "outputs": [
    {
     "data": {
      "text/html": [
       "<div>\n",
       "<style scoped>\n",
       "    .dataframe tbody tr th:only-of-type {\n",
       "        vertical-align: middle;\n",
       "    }\n",
       "\n",
       "    .dataframe tbody tr th {\n",
       "        vertical-align: top;\n",
       "    }\n",
       "\n",
       "    .dataframe thead th {\n",
       "        text-align: right;\n",
       "    }\n",
       "</style>\n",
       "<table border=\"1\" class=\"dataframe\">\n",
       "  <thead>\n",
       "    <tr style=\"text-align: right;\">\n",
       "      <th></th>\n",
       "      <th>popularity</th>\n",
       "      <th>budget</th>\n",
       "      <th>revenue</th>\n",
       "      <th>original_title</th>\n",
       "      <th>cast</th>\n",
       "      <th>director</th>\n",
       "      <th>genres</th>\n",
       "      <th>production_companies</th>\n",
       "      <th>release_date</th>\n",
       "      <th>vote_count</th>\n",
       "      <th>vote_average</th>\n",
       "      <th>release_year</th>\n",
       "    </tr>\n",
       "  </thead>\n",
       "  <tbody>\n",
       "    <tr>\n",
       "      <th>0</th>\n",
       "      <td>32.985763</td>\n",
       "      <td>150000000</td>\n",
       "      <td>1513528810</td>\n",
       "      <td>Jurassic World</td>\n",
       "      <td>Chris Pratt|Bryce Dallas Howard|Irrfan Khan|Vi...</td>\n",
       "      <td>Colin Trevorrow</td>\n",
       "      <td>Action|Adventure|Science Fiction|Thriller</td>\n",
       "      <td>Universal Studios|Amblin Entertainment|Legenda...</td>\n",
       "      <td>6/9/15</td>\n",
       "      <td>5562</td>\n",
       "      <td>6.5</td>\n",
       "      <td>2015</td>\n",
       "    </tr>\n",
       "    <tr>\n",
       "      <th>1</th>\n",
       "      <td>28.419936</td>\n",
       "      <td>150000000</td>\n",
       "      <td>378436354</td>\n",
       "      <td>Mad Max: Fury Road</td>\n",
       "      <td>Tom Hardy|Charlize Theron|Hugh Keays-Byrne|Nic...</td>\n",
       "      <td>George Miller</td>\n",
       "      <td>Action|Adventure|Science Fiction|Thriller</td>\n",
       "      <td>Village Roadshow Pictures|Kennedy Miller Produ...</td>\n",
       "      <td>5/13/15</td>\n",
       "      <td>6185</td>\n",
       "      <td>7.1</td>\n",
       "      <td>2015</td>\n",
       "    </tr>\n",
       "    <tr>\n",
       "      <th>2</th>\n",
       "      <td>13.112507</td>\n",
       "      <td>110000000</td>\n",
       "      <td>295238201</td>\n",
       "      <td>Insurgent</td>\n",
       "      <td>Shailene Woodley|Theo James|Kate Winslet|Ansel...</td>\n",
       "      <td>Robert Schwentke</td>\n",
       "      <td>Adventure|Science Fiction|Thriller</td>\n",
       "      <td>Summit Entertainment|Mandeville Films|Red Wago...</td>\n",
       "      <td>3/18/15</td>\n",
       "      <td>2480</td>\n",
       "      <td>6.3</td>\n",
       "      <td>2015</td>\n",
       "    </tr>\n",
       "    <tr>\n",
       "      <th>3</th>\n",
       "      <td>11.173104</td>\n",
       "      <td>200000000</td>\n",
       "      <td>2068178225</td>\n",
       "      <td>Star Wars: The Force Awakens</td>\n",
       "      <td>Harrison Ford|Mark Hamill|Carrie Fisher|Adam D...</td>\n",
       "      <td>J.J. Abrams</td>\n",
       "      <td>Action|Adventure|Science Fiction|Fantasy</td>\n",
       "      <td>Lucasfilm|Truenorth Productions|Bad Robot</td>\n",
       "      <td>12/15/15</td>\n",
       "      <td>5292</td>\n",
       "      <td>7.5</td>\n",
       "      <td>2015</td>\n",
       "    </tr>\n",
       "    <tr>\n",
       "      <th>4</th>\n",
       "      <td>9.335014</td>\n",
       "      <td>190000000</td>\n",
       "      <td>1506249360</td>\n",
       "      <td>Furious 7</td>\n",
       "      <td>Vin Diesel|Paul Walker|Jason Statham|Michelle ...</td>\n",
       "      <td>James Wan</td>\n",
       "      <td>Action|Crime|Thriller</td>\n",
       "      <td>Universal Pictures|Original Film|Media Rights ...</td>\n",
       "      <td>4/1/15</td>\n",
       "      <td>2947</td>\n",
       "      <td>7.3</td>\n",
       "      <td>2015</td>\n",
       "    </tr>\n",
       "    <tr>\n",
       "      <th>...</th>\n",
       "      <td>...</td>\n",
       "      <td>...</td>\n",
       "      <td>...</td>\n",
       "      <td>...</td>\n",
       "      <td>...</td>\n",
       "      <td>...</td>\n",
       "      <td>...</td>\n",
       "      <td>...</td>\n",
       "      <td>...</td>\n",
       "      <td>...</td>\n",
       "      <td>...</td>\n",
       "      <td>...</td>\n",
       "    </tr>\n",
       "    <tr>\n",
       "      <th>10861</th>\n",
       "      <td>0.080598</td>\n",
       "      <td>0</td>\n",
       "      <td>0</td>\n",
       "      <td>The Endless Summer</td>\n",
       "      <td>Michael Hynson|Robert August|Lord 'Tally Ho' B...</td>\n",
       "      <td>Bruce Brown</td>\n",
       "      <td>Documentary</td>\n",
       "      <td>Bruce Brown Films</td>\n",
       "      <td>6/15/66</td>\n",
       "      <td>11</td>\n",
       "      <td>7.4</td>\n",
       "      <td>1966</td>\n",
       "    </tr>\n",
       "    <tr>\n",
       "      <th>10862</th>\n",
       "      <td>0.065543</td>\n",
       "      <td>0</td>\n",
       "      <td>0</td>\n",
       "      <td>Grand Prix</td>\n",
       "      <td>James Garner|Eva Marie Saint|Yves Montand|Tosh...</td>\n",
       "      <td>John Frankenheimer</td>\n",
       "      <td>Action|Adventure|Drama</td>\n",
       "      <td>Cherokee Productions|Joel Productions|Douglas ...</td>\n",
       "      <td>12/21/66</td>\n",
       "      <td>20</td>\n",
       "      <td>5.7</td>\n",
       "      <td>1966</td>\n",
       "    </tr>\n",
       "    <tr>\n",
       "      <th>10863</th>\n",
       "      <td>0.065141</td>\n",
       "      <td>0</td>\n",
       "      <td>0</td>\n",
       "      <td>Beregis Avtomobilya</td>\n",
       "      <td>Innokentiy Smoktunovskiy|Oleg Efremov|Georgi Z...</td>\n",
       "      <td>Eldar Ryazanov</td>\n",
       "      <td>Mystery|Comedy</td>\n",
       "      <td>Mosfilm</td>\n",
       "      <td>1/1/66</td>\n",
       "      <td>11</td>\n",
       "      <td>6.5</td>\n",
       "      <td>1966</td>\n",
       "    </tr>\n",
       "    <tr>\n",
       "      <th>10864</th>\n",
       "      <td>0.064317</td>\n",
       "      <td>0</td>\n",
       "      <td>0</td>\n",
       "      <td>What's Up, Tiger Lily?</td>\n",
       "      <td>Tatsuya Mihashi|Akiko Wakabayashi|Mie Hama|Joh...</td>\n",
       "      <td>Woody Allen</td>\n",
       "      <td>Action|Comedy</td>\n",
       "      <td>Benedict Pictures Corp.</td>\n",
       "      <td>11/2/66</td>\n",
       "      <td>22</td>\n",
       "      <td>5.4</td>\n",
       "      <td>1966</td>\n",
       "    </tr>\n",
       "    <tr>\n",
       "      <th>10865</th>\n",
       "      <td>0.035919</td>\n",
       "      <td>19000</td>\n",
       "      <td>0</td>\n",
       "      <td>Manos: The Hands of Fate</td>\n",
       "      <td>Harold P. Warren|Tom Neyman|John Reynolds|Dian...</td>\n",
       "      <td>Harold P. Warren</td>\n",
       "      <td>Horror</td>\n",
       "      <td>Norm-Iris</td>\n",
       "      <td>11/15/66</td>\n",
       "      <td>15</td>\n",
       "      <td>1.5</td>\n",
       "      <td>1966</td>\n",
       "    </tr>\n",
       "  </tbody>\n",
       "</table>\n",
       "<p>10865 rows × 12 columns</p>\n",
       "</div>"
      ],
      "text/plain": [
       "       popularity     budget     revenue                original_title  \\\n",
       "0       32.985763  150000000  1513528810                Jurassic World   \n",
       "1       28.419936  150000000   378436354            Mad Max: Fury Road   \n",
       "2       13.112507  110000000   295238201                     Insurgent   \n",
       "3       11.173104  200000000  2068178225  Star Wars: The Force Awakens   \n",
       "4        9.335014  190000000  1506249360                     Furious 7   \n",
       "...           ...        ...         ...                           ...   \n",
       "10861    0.080598          0           0            The Endless Summer   \n",
       "10862    0.065543          0           0                    Grand Prix   \n",
       "10863    0.065141          0           0           Beregis Avtomobilya   \n",
       "10864    0.064317          0           0        What's Up, Tiger Lily?   \n",
       "10865    0.035919      19000           0      Manos: The Hands of Fate   \n",
       "\n",
       "                                                    cast            director  \\\n",
       "0      Chris Pratt|Bryce Dallas Howard|Irrfan Khan|Vi...     Colin Trevorrow   \n",
       "1      Tom Hardy|Charlize Theron|Hugh Keays-Byrne|Nic...       George Miller   \n",
       "2      Shailene Woodley|Theo James|Kate Winslet|Ansel...    Robert Schwentke   \n",
       "3      Harrison Ford|Mark Hamill|Carrie Fisher|Adam D...         J.J. Abrams   \n",
       "4      Vin Diesel|Paul Walker|Jason Statham|Michelle ...           James Wan   \n",
       "...                                                  ...                 ...   \n",
       "10861  Michael Hynson|Robert August|Lord 'Tally Ho' B...         Bruce Brown   \n",
       "10862  James Garner|Eva Marie Saint|Yves Montand|Tosh...  John Frankenheimer   \n",
       "10863  Innokentiy Smoktunovskiy|Oleg Efremov|Georgi Z...      Eldar Ryazanov   \n",
       "10864  Tatsuya Mihashi|Akiko Wakabayashi|Mie Hama|Joh...         Woody Allen   \n",
       "10865  Harold P. Warren|Tom Neyman|John Reynolds|Dian...    Harold P. Warren   \n",
       "\n",
       "                                          genres  \\\n",
       "0      Action|Adventure|Science Fiction|Thriller   \n",
       "1      Action|Adventure|Science Fiction|Thriller   \n",
       "2             Adventure|Science Fiction|Thriller   \n",
       "3       Action|Adventure|Science Fiction|Fantasy   \n",
       "4                          Action|Crime|Thriller   \n",
       "...                                          ...   \n",
       "10861                                Documentary   \n",
       "10862                     Action|Adventure|Drama   \n",
       "10863                             Mystery|Comedy   \n",
       "10864                              Action|Comedy   \n",
       "10865                                     Horror   \n",
       "\n",
       "                                    production_companies release_date  \\\n",
       "0      Universal Studios|Amblin Entertainment|Legenda...       6/9/15   \n",
       "1      Village Roadshow Pictures|Kennedy Miller Produ...      5/13/15   \n",
       "2      Summit Entertainment|Mandeville Films|Red Wago...      3/18/15   \n",
       "3              Lucasfilm|Truenorth Productions|Bad Robot     12/15/15   \n",
       "4      Universal Pictures|Original Film|Media Rights ...       4/1/15   \n",
       "...                                                  ...          ...   \n",
       "10861                                  Bruce Brown Films      6/15/66   \n",
       "10862  Cherokee Productions|Joel Productions|Douglas ...     12/21/66   \n",
       "10863                                            Mosfilm       1/1/66   \n",
       "10864                            Benedict Pictures Corp.      11/2/66   \n",
       "10865                                          Norm-Iris     11/15/66   \n",
       "\n",
       "       vote_count  vote_average  release_year  \n",
       "0            5562           6.5          2015  \n",
       "1            6185           7.1          2015  \n",
       "2            2480           6.3          2015  \n",
       "3            5292           7.5          2015  \n",
       "4            2947           7.3          2015  \n",
       "...           ...           ...           ...  \n",
       "10861          11           7.4          1966  \n",
       "10862          20           5.7          1966  \n",
       "10863          11           6.5          1966  \n",
       "10864          22           5.4          1966  \n",
       "10865          15           1.5          1966  \n",
       "\n",
       "[10865 rows x 12 columns]"
      ]
     },
     "execution_count": 78,
     "metadata": {},
     "output_type": "execute_result"
    }
   ],
   "source": [
    "df.drop_duplicates()"
   ]
  },
  {
   "cell_type": "code",
   "execution_count": 79,
   "metadata": {},
   "outputs": [
    {
     "data": {
      "text/plain": [
       "popularity                 0\n",
       "budget                  5696\n",
       "revenue                 6016\n",
       "original_title             0\n",
       "cast                      76\n",
       "director                  44\n",
       "genres                    23\n",
       "production_companies    1030\n",
       "release_date               0\n",
       "vote_count                 0\n",
       "vote_average               0\n",
       "release_year               0\n",
       "dtype: int64"
      ]
     },
     "execution_count": 79,
     "metadata": {},
     "output_type": "execute_result"
    }
   ],
   "source": [
    "#replace zero value to NAN value\n",
    "df.replace(0, np.nan, inplace=True)\n",
    "#diplay number of nan value at each column\n",
    "df.isnull().sum()"
   ]
  },
  {
   "cell_type": "markdown",
   "metadata": {},
   "source": [
    "***I will fill nan values with mean***\n"
   ]
  },
  {
   "cell_type": "code",
   "execution_count": 80,
   "metadata": {
    "scrolled": false
   },
   "outputs": [
    {
     "data": {
      "text/html": [
       "<div>\n",
       "<style scoped>\n",
       "    .dataframe tbody tr th:only-of-type {\n",
       "        vertical-align: middle;\n",
       "    }\n",
       "\n",
       "    .dataframe tbody tr th {\n",
       "        vertical-align: top;\n",
       "    }\n",
       "\n",
       "    .dataframe thead th {\n",
       "        text-align: right;\n",
       "    }\n",
       "</style>\n",
       "<table border=\"1\" class=\"dataframe\">\n",
       "  <thead>\n",
       "    <tr style=\"text-align: right;\">\n",
       "      <th></th>\n",
       "      <th>popularity</th>\n",
       "      <th>budget</th>\n",
       "      <th>revenue</th>\n",
       "      <th>original_title</th>\n",
       "      <th>cast</th>\n",
       "      <th>director</th>\n",
       "      <th>genres</th>\n",
       "      <th>production_companies</th>\n",
       "      <th>release_date</th>\n",
       "      <th>vote_count</th>\n",
       "      <th>vote_average</th>\n",
       "      <th>release_year</th>\n",
       "    </tr>\n",
       "  </thead>\n",
       "  <tbody>\n",
       "    <tr>\n",
       "      <th>0</th>\n",
       "      <td>32.985763</td>\n",
       "      <td>1.500000e+08</td>\n",
       "      <td>1.513529e+09</td>\n",
       "      <td>Jurassic World</td>\n",
       "      <td>Chris Pratt|Bryce Dallas Howard|Irrfan Khan|Vi...</td>\n",
       "      <td>Colin Trevorrow</td>\n",
       "      <td>Action|Adventure|Science Fiction|Thriller</td>\n",
       "      <td>Universal Studios|Amblin Entertainment|Legenda...</td>\n",
       "      <td>6/9/15</td>\n",
       "      <td>5562</td>\n",
       "      <td>6.5</td>\n",
       "      <td>2015</td>\n",
       "    </tr>\n",
       "    <tr>\n",
       "      <th>1</th>\n",
       "      <td>28.419936</td>\n",
       "      <td>1.500000e+08</td>\n",
       "      <td>3.784364e+08</td>\n",
       "      <td>Mad Max: Fury Road</td>\n",
       "      <td>Tom Hardy|Charlize Theron|Hugh Keays-Byrne|Nic...</td>\n",
       "      <td>George Miller</td>\n",
       "      <td>Action|Adventure|Science Fiction|Thriller</td>\n",
       "      <td>Village Roadshow Pictures|Kennedy Miller Produ...</td>\n",
       "      <td>5/13/15</td>\n",
       "      <td>6185</td>\n",
       "      <td>7.1</td>\n",
       "      <td>2015</td>\n",
       "    </tr>\n",
       "    <tr>\n",
       "      <th>2</th>\n",
       "      <td>13.112507</td>\n",
       "      <td>1.100000e+08</td>\n",
       "      <td>2.952382e+08</td>\n",
       "      <td>Insurgent</td>\n",
       "      <td>Shailene Woodley|Theo James|Kate Winslet|Ansel...</td>\n",
       "      <td>Robert Schwentke</td>\n",
       "      <td>Adventure|Science Fiction|Thriller</td>\n",
       "      <td>Summit Entertainment|Mandeville Films|Red Wago...</td>\n",
       "      <td>3/18/15</td>\n",
       "      <td>2480</td>\n",
       "      <td>6.3</td>\n",
       "      <td>2015</td>\n",
       "    </tr>\n",
       "    <tr>\n",
       "      <th>3</th>\n",
       "      <td>11.173104</td>\n",
       "      <td>2.000000e+08</td>\n",
       "      <td>2.068178e+09</td>\n",
       "      <td>Star Wars: The Force Awakens</td>\n",
       "      <td>Harrison Ford|Mark Hamill|Carrie Fisher|Adam D...</td>\n",
       "      <td>J.J. Abrams</td>\n",
       "      <td>Action|Adventure|Science Fiction|Fantasy</td>\n",
       "      <td>Lucasfilm|Truenorth Productions|Bad Robot</td>\n",
       "      <td>12/15/15</td>\n",
       "      <td>5292</td>\n",
       "      <td>7.5</td>\n",
       "      <td>2015</td>\n",
       "    </tr>\n",
       "    <tr>\n",
       "      <th>4</th>\n",
       "      <td>9.335014</td>\n",
       "      <td>1.900000e+08</td>\n",
       "      <td>1.506249e+09</td>\n",
       "      <td>Furious 7</td>\n",
       "      <td>Vin Diesel|Paul Walker|Jason Statham|Michelle ...</td>\n",
       "      <td>James Wan</td>\n",
       "      <td>Action|Crime|Thriller</td>\n",
       "      <td>Universal Pictures|Original Film|Media Rights ...</td>\n",
       "      <td>4/1/15</td>\n",
       "      <td>2947</td>\n",
       "      <td>7.3</td>\n",
       "      <td>2015</td>\n",
       "    </tr>\n",
       "    <tr>\n",
       "      <th>...</th>\n",
       "      <td>...</td>\n",
       "      <td>...</td>\n",
       "      <td>...</td>\n",
       "      <td>...</td>\n",
       "      <td>...</td>\n",
       "      <td>...</td>\n",
       "      <td>...</td>\n",
       "      <td>...</td>\n",
       "      <td>...</td>\n",
       "      <td>...</td>\n",
       "      <td>...</td>\n",
       "      <td>...</td>\n",
       "    </tr>\n",
       "    <tr>\n",
       "      <th>10861</th>\n",
       "      <td>0.080598</td>\n",
       "      <td>3.073943e+07</td>\n",
       "      <td>8.922066e+07</td>\n",
       "      <td>The Endless Summer</td>\n",
       "      <td>Michael Hynson|Robert August|Lord 'Tally Ho' B...</td>\n",
       "      <td>Bruce Brown</td>\n",
       "      <td>Documentary</td>\n",
       "      <td>Bruce Brown Films</td>\n",
       "      <td>6/15/66</td>\n",
       "      <td>11</td>\n",
       "      <td>7.4</td>\n",
       "      <td>1966</td>\n",
       "    </tr>\n",
       "    <tr>\n",
       "      <th>10862</th>\n",
       "      <td>0.065543</td>\n",
       "      <td>3.073943e+07</td>\n",
       "      <td>8.922066e+07</td>\n",
       "      <td>Grand Prix</td>\n",
       "      <td>James Garner|Eva Marie Saint|Yves Montand|Tosh...</td>\n",
       "      <td>John Frankenheimer</td>\n",
       "      <td>Action|Adventure|Drama</td>\n",
       "      <td>Cherokee Productions|Joel Productions|Douglas ...</td>\n",
       "      <td>12/21/66</td>\n",
       "      <td>20</td>\n",
       "      <td>5.7</td>\n",
       "      <td>1966</td>\n",
       "    </tr>\n",
       "    <tr>\n",
       "      <th>10863</th>\n",
       "      <td>0.065141</td>\n",
       "      <td>3.073943e+07</td>\n",
       "      <td>8.922066e+07</td>\n",
       "      <td>Beregis Avtomobilya</td>\n",
       "      <td>Innokentiy Smoktunovskiy|Oleg Efremov|Georgi Z...</td>\n",
       "      <td>Eldar Ryazanov</td>\n",
       "      <td>Mystery|Comedy</td>\n",
       "      <td>Mosfilm</td>\n",
       "      <td>1/1/66</td>\n",
       "      <td>11</td>\n",
       "      <td>6.5</td>\n",
       "      <td>1966</td>\n",
       "    </tr>\n",
       "    <tr>\n",
       "      <th>10864</th>\n",
       "      <td>0.064317</td>\n",
       "      <td>3.073943e+07</td>\n",
       "      <td>8.922066e+07</td>\n",
       "      <td>What's Up, Tiger Lily?</td>\n",
       "      <td>Tatsuya Mihashi|Akiko Wakabayashi|Mie Hama|Joh...</td>\n",
       "      <td>Woody Allen</td>\n",
       "      <td>Action|Comedy</td>\n",
       "      <td>Benedict Pictures Corp.</td>\n",
       "      <td>11/2/66</td>\n",
       "      <td>22</td>\n",
       "      <td>5.4</td>\n",
       "      <td>1966</td>\n",
       "    </tr>\n",
       "    <tr>\n",
       "      <th>10865</th>\n",
       "      <td>0.035919</td>\n",
       "      <td>1.900000e+04</td>\n",
       "      <td>8.922066e+07</td>\n",
       "      <td>Manos: The Hands of Fate</td>\n",
       "      <td>Harold P. Warren|Tom Neyman|John Reynolds|Dian...</td>\n",
       "      <td>Harold P. Warren</td>\n",
       "      <td>Horror</td>\n",
       "      <td>Norm-Iris</td>\n",
       "      <td>11/15/66</td>\n",
       "      <td>15</td>\n",
       "      <td>1.5</td>\n",
       "      <td>1966</td>\n",
       "    </tr>\n",
       "  </tbody>\n",
       "</table>\n",
       "<p>10866 rows × 12 columns</p>\n",
       "</div>"
      ],
      "text/plain": [
       "       popularity        budget       revenue                original_title  \\\n",
       "0       32.985763  1.500000e+08  1.513529e+09                Jurassic World   \n",
       "1       28.419936  1.500000e+08  3.784364e+08            Mad Max: Fury Road   \n",
       "2       13.112507  1.100000e+08  2.952382e+08                     Insurgent   \n",
       "3       11.173104  2.000000e+08  2.068178e+09  Star Wars: The Force Awakens   \n",
       "4        9.335014  1.900000e+08  1.506249e+09                     Furious 7   \n",
       "...           ...           ...           ...                           ...   \n",
       "10861    0.080598  3.073943e+07  8.922066e+07            The Endless Summer   \n",
       "10862    0.065543  3.073943e+07  8.922066e+07                    Grand Prix   \n",
       "10863    0.065141  3.073943e+07  8.922066e+07           Beregis Avtomobilya   \n",
       "10864    0.064317  3.073943e+07  8.922066e+07        What's Up, Tiger Lily?   \n",
       "10865    0.035919  1.900000e+04  8.922066e+07      Manos: The Hands of Fate   \n",
       "\n",
       "                                                    cast            director  \\\n",
       "0      Chris Pratt|Bryce Dallas Howard|Irrfan Khan|Vi...     Colin Trevorrow   \n",
       "1      Tom Hardy|Charlize Theron|Hugh Keays-Byrne|Nic...       George Miller   \n",
       "2      Shailene Woodley|Theo James|Kate Winslet|Ansel...    Robert Schwentke   \n",
       "3      Harrison Ford|Mark Hamill|Carrie Fisher|Adam D...         J.J. Abrams   \n",
       "4      Vin Diesel|Paul Walker|Jason Statham|Michelle ...           James Wan   \n",
       "...                                                  ...                 ...   \n",
       "10861  Michael Hynson|Robert August|Lord 'Tally Ho' B...         Bruce Brown   \n",
       "10862  James Garner|Eva Marie Saint|Yves Montand|Tosh...  John Frankenheimer   \n",
       "10863  Innokentiy Smoktunovskiy|Oleg Efremov|Georgi Z...      Eldar Ryazanov   \n",
       "10864  Tatsuya Mihashi|Akiko Wakabayashi|Mie Hama|Joh...         Woody Allen   \n",
       "10865  Harold P. Warren|Tom Neyman|John Reynolds|Dian...    Harold P. Warren   \n",
       "\n",
       "                                          genres  \\\n",
       "0      Action|Adventure|Science Fiction|Thriller   \n",
       "1      Action|Adventure|Science Fiction|Thriller   \n",
       "2             Adventure|Science Fiction|Thriller   \n",
       "3       Action|Adventure|Science Fiction|Fantasy   \n",
       "4                          Action|Crime|Thriller   \n",
       "...                                          ...   \n",
       "10861                                Documentary   \n",
       "10862                     Action|Adventure|Drama   \n",
       "10863                             Mystery|Comedy   \n",
       "10864                              Action|Comedy   \n",
       "10865                                     Horror   \n",
       "\n",
       "                                    production_companies release_date  \\\n",
       "0      Universal Studios|Amblin Entertainment|Legenda...       6/9/15   \n",
       "1      Village Roadshow Pictures|Kennedy Miller Produ...      5/13/15   \n",
       "2      Summit Entertainment|Mandeville Films|Red Wago...      3/18/15   \n",
       "3              Lucasfilm|Truenorth Productions|Bad Robot     12/15/15   \n",
       "4      Universal Pictures|Original Film|Media Rights ...       4/1/15   \n",
       "...                                                  ...          ...   \n",
       "10861                                  Bruce Brown Films      6/15/66   \n",
       "10862  Cherokee Productions|Joel Productions|Douglas ...     12/21/66   \n",
       "10863                                            Mosfilm       1/1/66   \n",
       "10864                            Benedict Pictures Corp.      11/2/66   \n",
       "10865                                          Norm-Iris     11/15/66   \n",
       "\n",
       "       vote_count  vote_average  release_year  \n",
       "0            5562           6.5          2015  \n",
       "1            6185           7.1          2015  \n",
       "2            2480           6.3          2015  \n",
       "3            5292           7.5          2015  \n",
       "4            2947           7.3          2015  \n",
       "...           ...           ...           ...  \n",
       "10861          11           7.4          1966  \n",
       "10862          20           5.7          1966  \n",
       "10863          11           6.5          1966  \n",
       "10864          22           5.4          1966  \n",
       "10865          15           1.5          1966  \n",
       "\n",
       "[10866 rows x 12 columns]"
      ]
     },
     "execution_count": 80,
     "metadata": {},
     "output_type": "execute_result"
    }
   ],
   "source": [
    "#using fillna function to fill nan values with mean\n",
    "df.fillna(df.mean())"
   ]
  },
  {
   "cell_type": "markdown",
   "metadata": {},
   "source": [
    "***Certain columns, like ‘cast’ and ‘genres’, contain multiple values separated by pipe (|) characters so, we need to split them and i will use explode function to do that*** "
   ]
  },
  {
   "cell_type": "code",
   "execution_count": 81,
   "metadata": {
    "scrolled": false
   },
   "outputs": [
    {
     "data": {
      "text/html": [
       "<div>\n",
       "<style scoped>\n",
       "    .dataframe tbody tr th:only-of-type {\n",
       "        vertical-align: middle;\n",
       "    }\n",
       "\n",
       "    .dataframe tbody tr th {\n",
       "        vertical-align: top;\n",
       "    }\n",
       "\n",
       "    .dataframe thead th {\n",
       "        text-align: right;\n",
       "    }\n",
       "</style>\n",
       "<table border=\"1\" class=\"dataframe\">\n",
       "  <thead>\n",
       "    <tr style=\"text-align: right;\">\n",
       "      <th></th>\n",
       "      <th>popularity</th>\n",
       "      <th>budget</th>\n",
       "      <th>revenue</th>\n",
       "      <th>original_title</th>\n",
       "      <th>cast</th>\n",
       "      <th>director</th>\n",
       "      <th>genres</th>\n",
       "      <th>production_companies</th>\n",
       "      <th>release_date</th>\n",
       "      <th>vote_count</th>\n",
       "      <th>vote_average</th>\n",
       "      <th>release_year</th>\n",
       "    </tr>\n",
       "  </thead>\n",
       "  <tbody>\n",
       "    <tr>\n",
       "      <th>0</th>\n",
       "      <td>32.985763</td>\n",
       "      <td>150000000.0</td>\n",
       "      <td>1.513529e+09</td>\n",
       "      <td>Jurassic World</td>\n",
       "      <td>Chris Pratt</td>\n",
       "      <td>Colin Trevorrow</td>\n",
       "      <td>Action</td>\n",
       "      <td>Universal Studios</td>\n",
       "      <td>6/9/15</td>\n",
       "      <td>5562</td>\n",
       "      <td>6.5</td>\n",
       "      <td>2015</td>\n",
       "    </tr>\n",
       "    <tr>\n",
       "      <th>1</th>\n",
       "      <td>32.985763</td>\n",
       "      <td>150000000.0</td>\n",
       "      <td>1.513529e+09</td>\n",
       "      <td>Jurassic World</td>\n",
       "      <td>Chris Pratt</td>\n",
       "      <td>Colin Trevorrow</td>\n",
       "      <td>Action</td>\n",
       "      <td>Amblin Entertainment</td>\n",
       "      <td>6/9/15</td>\n",
       "      <td>5562</td>\n",
       "      <td>6.5</td>\n",
       "      <td>2015</td>\n",
       "    </tr>\n",
       "    <tr>\n",
       "      <th>2</th>\n",
       "      <td>32.985763</td>\n",
       "      <td>150000000.0</td>\n",
       "      <td>1.513529e+09</td>\n",
       "      <td>Jurassic World</td>\n",
       "      <td>Chris Pratt</td>\n",
       "      <td>Colin Trevorrow</td>\n",
       "      <td>Action</td>\n",
       "      <td>Legendary Pictures</td>\n",
       "      <td>6/9/15</td>\n",
       "      <td>5562</td>\n",
       "      <td>6.5</td>\n",
       "      <td>2015</td>\n",
       "    </tr>\n",
       "    <tr>\n",
       "      <th>3</th>\n",
       "      <td>32.985763</td>\n",
       "      <td>150000000.0</td>\n",
       "      <td>1.513529e+09</td>\n",
       "      <td>Jurassic World</td>\n",
       "      <td>Chris Pratt</td>\n",
       "      <td>Colin Trevorrow</td>\n",
       "      <td>Action</td>\n",
       "      <td>Fuji Television Network</td>\n",
       "      <td>6/9/15</td>\n",
       "      <td>5562</td>\n",
       "      <td>6.5</td>\n",
       "      <td>2015</td>\n",
       "    </tr>\n",
       "    <tr>\n",
       "      <th>4</th>\n",
       "      <td>32.985763</td>\n",
       "      <td>150000000.0</td>\n",
       "      <td>1.513529e+09</td>\n",
       "      <td>Jurassic World</td>\n",
       "      <td>Chris Pratt</td>\n",
       "      <td>Colin Trevorrow</td>\n",
       "      <td>Action</td>\n",
       "      <td>Dentsu</td>\n",
       "      <td>6/9/15</td>\n",
       "      <td>5562</td>\n",
       "      <td>6.5</td>\n",
       "      <td>2015</td>\n",
       "    </tr>\n",
       "  </tbody>\n",
       "</table>\n",
       "</div>"
      ],
      "text/plain": [
       "   popularity       budget       revenue  original_title         cast  \\\n",
       "0   32.985763  150000000.0  1.513529e+09  Jurassic World  Chris Pratt   \n",
       "1   32.985763  150000000.0  1.513529e+09  Jurassic World  Chris Pratt   \n",
       "2   32.985763  150000000.0  1.513529e+09  Jurassic World  Chris Pratt   \n",
       "3   32.985763  150000000.0  1.513529e+09  Jurassic World  Chris Pratt   \n",
       "4   32.985763  150000000.0  1.513529e+09  Jurassic World  Chris Pratt   \n",
       "\n",
       "          director  genres     production_companies release_date  vote_count  \\\n",
       "0  Colin Trevorrow  Action        Universal Studios       6/9/15        5562   \n",
       "1  Colin Trevorrow  Action     Amblin Entertainment       6/9/15        5562   \n",
       "2  Colin Trevorrow  Action       Legendary Pictures       6/9/15        5562   \n",
       "3  Colin Trevorrow  Action  Fuji Television Network       6/9/15        5562   \n",
       "4  Colin Trevorrow  Action                   Dentsu       6/9/15        5562   \n",
       "\n",
       "   vote_average  release_year  \n",
       "0           6.5          2015  \n",
       "1           6.5          2015  \n",
       "2           6.5          2015  \n",
       "3           6.5          2015  \n",
       "4           6.5          2015  "
      ]
     },
     "execution_count": 81,
     "metadata": {},
     "output_type": "execute_result"
    }
   ],
   "source": [
    "#spliting my columns to new rows\n",
    "df.cast = df.cast.str.split('|')\n",
    "df.genres = df.genres.str.split('|')\n",
    "df.production_companies = df.production_companies.str.split(\"|\")\n",
    "df.director=df.director.str.split(\"|\")\n",
    "df = df.explode('cast').explode(\"genres\").explode(\"production_companies\").explode(\"director\").reset_index(drop=True)\n",
    "df.head()"
   ]
  },
  {
   "cell_type": "markdown",
   "metadata": {},
   "source": [
    "***We want to have enough study to understand the dataset and i will visualize the data usng histogram to understand it***  "
   ]
  },
  {
   "cell_type": "code",
   "execution_count": 82,
   "metadata": {},
   "outputs": [
    {
     "data": {
      "image/png": "[encoded data removed]",
      "text/plain": [
       "<Figure size 720x576 with 6 Axes>"
      ]
     },
     "metadata": {},
     "output_type": "display_data"
    }
   ],
   "source": [
    "#visulaize histogram for each column\n",
    "df.hist(figsize=(10, 8));"
   ]
  },
  {
   "cell_type": "markdown",
   "metadata": {},
   "source": [
    "<a id='eda'></a>\n",
    "## Exploratory Data Analysis\n",
    "\n",
    "\n",
    "### Research Question 1 (Top ten most popular actors)"
   ]
  },
  {
   "cell_type": "markdown",
   "metadata": {},
   "source": [
    "***Looking at the popularity for each actor***"
   ]
  },
  {
   "cell_type": "code",
   "execution_count": 83,
   "metadata": {
    "scrolled": false
   },
   "outputs": [],
   "source": [
    "def popular_actor (df):\n",
    " actors= df.groupby(['cast'], sort=False)['popularity'].max()\n",
    " top_actors=actors.nlargest(10)\n",
    " return(top_actors)"
   ]
  },
  {
   "cell_type": "code",
   "execution_count": 84,
   "metadata": {},
   "outputs": [
    {
     "data": {
      "text/plain": [
       "cast\n",
       "Chris Pratt            32.985763\n",
       "Bryce Dallas Howard    32.985763\n",
       "Irrfan Khan            32.985763\n",
       "Vincent D'Onofrio      32.985763\n",
       "Nick Robinson          32.985763\n",
       "Tom Hardy              28.419936\n",
       "Charlize Theron        28.419936\n",
       "Hugh Keays-Byrne       28.419936\n",
       "Nicholas Hoult         28.419936\n",
       "Josh Helman            28.419936\n",
       "Name: popularity, dtype: float64"
      ]
     },
     "execution_count": 84,
     "metadata": {},
     "output_type": "execute_result"
    }
   ],
   "source": [
    "#display top ten most popular actors\n",
    "popular_actor(df)"
   ]
  },
  {
   "cell_type": "markdown",
   "metadata": {},
   "source": [
    "***Looking for top ten most popular actors***"
   ]
  },
  {
   "cell_type": "code",
   "execution_count": 85,
   "metadata": {},
   "outputs": [
    {
     "data": {
      "image/png": "[encoded data removed]",
      "text/plain": [
       "<Figure size 1440x576 with 1 Axes>"
      ]
     },
     "metadata": {},
     "output_type": "display_data"
    }
   ],
   "source": [
    "#Visulaize top ten most popular actors\n",
    "plt.subplots(figsize=(20, 8))\n",
    "plt.bar([\"Chris Pratt\", \"Bryce Dallas Howard \",\"Irrfan Khan \", \"Vincent D'Onofrio\", \"Nick Robinson\", \"Tom Hardy\", \"Charlize Theron\", \"Hugh Keays-Byrne\", \"Nicholas Hoult\", \"Josh Helman\"],popular_actor(df), alpha=0.7 )\n",
    "plt.title(\"Top ten most popular actors\")\n",
    "plt.xlabel(\"Actors\")\n",
    "plt.ylabel(\"Popularity\");\n"
   ]
  },
  {
   "cell_type": "markdown",
   "metadata": {},
   "source": [
    "### Research Question 2  (Top 10 most profitable Movies)"
   ]
  },
  {
   "cell_type": "markdown",
   "metadata": {},
   "source": [
    "***Adding Profit column to The Dataset***"
   ]
  },
  {
   "cell_type": "code",
   "execution_count": 86,
   "metadata": {},
   "outputs": [],
   "source": [
    "df[\"profit\"]=df[\"revenue\"] - df[\"budget\"]\n"
   ]
  },
  {
   "cell_type": "markdown",
   "metadata": {},
   "source": [
    "***Looking at the Proift for each Movie***"
   ]
  },
  {
   "cell_type": "code",
   "execution_count": 87,
   "metadata": {
    "scrolled": true
   },
   "outputs": [],
   "source": [
    "def movie (df):\n",
    " movies=df.groupby(['original_title'], sort=False)['profit'].max()\n",
    " top_movies=movies.nlargest(10)\n",
    " return(top_movies)"
   ]
  },
  {
   "cell_type": "markdown",
   "metadata": {},
   "source": [
    "***Looking for top ten most profitable movies***"
   ]
  },
  {
   "cell_type": "code",
   "execution_count": 88,
   "metadata": {
    "scrolled": true
   },
   "outputs": [
    {
     "data": {
      "text/plain": [
       "original_title\n",
       "Avatar                                          2.544506e+09\n",
       "Star Wars: The Force Awakens                    1.868178e+09\n",
       "Titanic                                         1.645034e+09\n",
       "Jurassic World                                  1.363529e+09\n",
       "Furious 7                                       1.316249e+09\n",
       "The Avengers                                    1.299558e+09\n",
       "Harry Potter and the Deathly Hallows: Part 2    1.202818e+09\n",
       "Avengers: Age of Ultron                         1.125036e+09\n",
       "Frozen                                          1.124219e+09\n",
       "The Net                                         1.084280e+09\n",
       "Name: profit, dtype: float64"
      ]
     },
     "execution_count": 88,
     "metadata": {},
     "output_type": "execute_result"
    }
   ],
   "source": [
    "#display top ten most profitable movies using nalrgest function\n",
    "movie(df)"
   ]
  },
  {
   "cell_type": "code",
   "execution_count": 89,
   "metadata": {
    "scrolled": true
   },
   "outputs": [
    {
     "data": {
      "image/png": "[encoded data removed]",
      "text/plain": [
       "<Figure size 720x576 with 1 Axes>"
      ]
     },
     "metadata": {},
     "output_type": "display_data"
    }
   ],
   "source": [
    "plt.subplots(figsize=(10, 8))\n",
    "plt.barh([\"Avatar\",\"Star Wars: The Force Awakens\",\"Titanic \", \"Jurassic World \", \"Furious 7 \", \"The Avengers\",  \"Harry Potter and the Deathly Hallows: Part 2\", \"Avengers: Age of Ultron \", \"Frozen\", \"The Net \"],movie(df), alpha=0.7 )\n",
    "plt.title(\"Top 10 most profitable movies\",)\n",
    "plt.ylabel(\"Movies\")\n",
    "plt.xlabel(\"Revenue\");"
   ]
  },
  {
   "cell_type": "markdown",
   "metadata": {},
   "source": [
    "### Research Question 3   (Relation between Budget and Vote Average )"
   ]
  },
  {
   "cell_type": "markdown",
   "metadata": {},
   "source": [
    "***Looking at the correlation between Budget and Vote Average***"
   ]
  },
  {
   "cell_type": "code",
   "execution_count": 90,
   "metadata": {},
   "outputs": [
    {
     "data": {
      "image/png": "[encoded data removed]",
      "text/plain": [
       "<Figure size 360x360 with 1 Axes>"
      ]
     },
     "metadata": {},
     "output_type": "display_data"
    }
   ],
   "source": [
    "#Visulaize Relation between Budget and Vote Average\n",
    "sns.lmplot(x=\"vote_average\", y=\"budget\", data=df)\n",
    "plt.title(\"Relation between Budget and Vote Average\")\n",
    "plt.xlabel(\"Vote Average\")\n",
    "plt.ylabel(\"Budget\");"
   ]
  },
  {
   "cell_type": "markdown",
   "metadata": {},
   "source": [
    "**The Correlation between Budget and Vote Average is positive so, if we increace our Budjet, The Vote Average will also increase** "
   ]
  },
  {
   "cell_type": "markdown",
   "metadata": {},
   "source": [
    "### Research Question 4   (Top 10 most profitable genres)"
   ]
  },
  {
   "cell_type": "markdown",
   "metadata": {},
   "source": [
    "***Looking at the Proift for each Genre***"
   ]
  },
  {
   "cell_type": "code",
   "execution_count": 91,
   "metadata": {
    "scrolled": true
   },
   "outputs": [],
   "source": [
    "def genre (df): \n",
    " genres=df.groupby(['genres'], sort=False)['profit'].max()\n",
    " top_genres=genres.nlargest(10)\n",
    " return(top_genres)"
   ]
  },
  {
   "cell_type": "markdown",
   "metadata": {},
   "source": [
    "***Looking for top 10 Genres***"
   ]
  },
  {
   "cell_type": "code",
   "execution_count": 92,
   "metadata": {},
   "outputs": [
    {
     "data": {
      "text/plain": [
       "genres\n",
       "Action             2.544506e+09\n",
       "Adventure          2.544506e+09\n",
       "Science Fiction    2.544506e+09\n",
       "Fantasy            2.544506e+09\n",
       "Thriller           1.645034e+09\n",
       "Drama              1.645034e+09\n",
       "Romance            1.645034e+09\n",
       "Crime              1.316249e+09\n",
       "Family             1.202818e+09\n",
       "Animation          1.124219e+09\n",
       "Name: profit, dtype: float64"
      ]
     },
     "execution_count": 92,
     "metadata": {},
     "output_type": "execute_result"
    }
   ],
   "source": [
    "#display top 10 Genres\n",
    "genre(df)"
   ]
  },
  {
   "cell_type": "code",
   "execution_count": 93,
   "metadata": {},
   "outputs": [
    {
     "data": {
      "image/png": "[encoded data removed]",
      "text/plain": [
       "<Figure size 720x576 with 1 Axes>"
      ]
     },
     "metadata": {},
     "output_type": "display_data"
    }
   ],
   "source": [
    "#visulaize top 10 Genres\n",
    "plt.subplots(figsize=(10, 8))\n",
    "plt.barh([\"Action\",\"Adventure\",\"Science Fiction\", \"Fantasy\",\"Thriller\",\"Drama\", \"Romance\", \"Crime\", \"Family\", \"Animation\"],genre(df), alpha=0.7 )\n",
    "plt.title(\"Top 10 most profitable genres \",)\n",
    "plt.ylabel(\"Genres\")\n",
    "plt.xlabel(\"Revenue\");"
   ]
  },
  {
   "cell_type": "markdown",
   "metadata": {},
   "source": [
    "### Research Question 5 (Top 10 Directors with the highest ratings)\n"
   ]
  },
  {
   "cell_type": "markdown",
   "metadata": {},
   "source": [
    "***Looking for Vote Average for each Director***"
   ]
  },
  {
   "cell_type": "code",
   "execution_count": 94,
   "metadata": {},
   "outputs": [],
   "source": [
    "def director (df): \n",
    " directors=df.groupby(\"director\")[\"vote_average\"].max()\n",
    " top_directors=directors.nlargest(10)\n",
    " return(top_directors)"
   ]
  },
  {
   "cell_type": "markdown",
   "metadata": {},
   "source": [
    "***Looking for Top 10 Directors with the highest ratings*** "
   ]
  },
  {
   "cell_type": "code",
   "execution_count": 95,
   "metadata": {},
   "outputs": [
    {
     "data": {
      "text/plain": [
       "director\n",
       "Mark Cousins              9.2\n",
       "Jennifer Siebel Newsom    8.9\n",
       "Carl Tibbetts             8.8\n",
       "Derek Frankowski          8.8\n",
       "David Mallet              8.7\n",
       "Curt Morgan               8.5\n",
       "James Payne               8.5\n",
       "Martin Scorsese           8.5\n",
       "Michael Henry Wilson      8.5\n",
       "Saul Swimmer              8.5\n",
       "Name: vote_average, dtype: float64"
      ]
     },
     "execution_count": 95,
     "metadata": {},
     "output_type": "execute_result"
    }
   ],
   "source": [
    "#display Top 10 Directors with the highest ratings \n",
    "director(df)\n"
   ]
  },
  {
   "cell_type": "code",
   "execution_count": 96,
   "metadata": {
    "scrolled": true
   },
   "outputs": [
    {
     "data": {
      "image/png": "[encoded data removed]",
      "text/plain": [
       "<Figure size 720x576 with 1 Axes>"
      ]
     },
     "metadata": {},
     "output_type": "display_data"
    }
   ],
   "source": [
    "#visulaize Top 10 Directors with the highest ratings\n",
    "plt.subplots(figsize=(10, 8))\n",
    "plt.barh([\"Mark Cousins \",\"Jennifer Siebel Newsom\",\"Carl Tibbetts\", \"Derek Frankowski \", \"David Mallet\", \"Curt Morgan\",\"James Payne\", \"Martin Scorsese\", \"Michael Henry Wilson\", \"Saul Swimmer\"],director(df), alpha=0.7)\n",
    "plt.title(\"Top 10 Directors with the highest ratings\")\n",
    "plt.ylabel(\"Director\")\n",
    "plt.xlabel(\"Rating\");"
   ]
  },
  {
   "cell_type": "markdown",
   "metadata": {},
   "source": [
    "### Research Question 6   (Relation between Budget and Revenue)"
   ]
  },
  {
   "cell_type": "markdown",
   "metadata": {},
   "source": [
    "**Looking at the correlation between Budget and Revenue**"
   ]
  },
  {
   "cell_type": "code",
   "execution_count": 97,
   "metadata": {
    "scrolled": true
   },
   "outputs": [
    {
     "data": {
      "image/png": "[encoded data removed]",
      "text/plain": [
       "<Figure size 360x360 with 1 Axes>"
      ]
     },
     "metadata": {},
     "output_type": "display_data"
    }
   ],
   "source": [
    "#visulaize correlation between Budget and Revenue\n",
    "sns.lmplot(x=\"revenue\", y=\"budget\", data=df)\n",
    "plt.title(\"Relation between Budget and Revenue\")\n",
    "plt.xlabel(\"Revenue\")\n",
    "plt.ylabel(\"Budget\");"
   ]
  },
  {
   "cell_type": "markdown",
   "metadata": {},
   "source": [
    "**The Correlation between Budget and Revenue is positive so, if we increace our Budjet, The Revenue will also increase** "
   ]
  },
  {
   "cell_type": "markdown",
   "metadata": {},
   "source": [
    "### Research Question 7   (Relation between Release Years and Revenue)"
   ]
  },
  {
   "cell_type": "code",
   "execution_count": 98,
   "metadata": {
    "scrolled": true
   },
   "outputs": [
    {
     "name": "stderr",
     "output_type": "stream",
     "text": [
      "C:\\ProgramData\\Anaconda3\\lib\\site-packages\\seaborn\\distributions.py:2557: FutureWarning: `distplot` is a deprecated function and will be removed in a future version. Please adapt your code to use either `displot` (a figure-level function with similar flexibility) or `kdeplot` (an axes-level function for kernel density plots).\n",
      "  warnings.warn(msg, FutureWarning)\n"
     ]
    },
    {
     "data": {
      "image/png": "[encoded data removed]",
      "text/plain": [
       "<Figure size 432x288 with 1 Axes>"
      ]
     },
     "metadata": {},
     "output_type": "display_data"
    }
   ],
   "source": [
    "#Visulaize Relation between Release Years and Revenue \n",
    "sns.distplot(df[\"release_year\"], df[\"revenue\"], hist=False);\n",
    "plt.xlabel(\"Release Year\")\n",
    "plt.ylabel(\"Revenue\")\n",
    "plt.title(\"Relation betwenn Release Year and Revenue\")\n",
    "sns.set_style(\"whitegrid\")\n",
    "plt.show()\n",
    "\n"
   ]
  },
  {
   "cell_type": "markdown",
   "metadata": {},
   "source": [
    "### It is quite clear that from 2005 to 2015 the most profits were made"
   ]
  },
  {
   "cell_type": "markdown",
   "metadata": {},
   "source": [
    "### Research Question 8  (In which years were the largest number of movies produced?)"
   ]
  },
  {
   "cell_type": "markdown",
   "metadata": {},
   "source": [
    "***Looking for Number of Movies for eaxh Year***"
   ]
  },
  {
   "cell_type": "code",
   "execution_count": 99,
   "metadata": {
    "scrolled": true
   },
   "outputs": [],
   "source": [
    "def year (df):\n",
    " years=df.groupby(\"release_year\")[\"original_title\"].count()\n",
    " top_years=years.nlargest(10)\n",
    " return (top_years)"
   ]
  },
  {
   "cell_type": "markdown",
   "metadata": {},
   "source": [
    "***Looking for Years were the largest number of films produced***"
   ]
  },
  {
   "cell_type": "code",
   "execution_count": 100,
   "metadata": {
    "scrolled": true
   },
   "outputs": [
    {
     "data": {
      "text/plain": [
       "release_year\n",
       "2014    20353\n",
       "2009    18511\n",
       "2013    18447\n",
       "2015    17900\n",
       "2008    16983\n",
       "2011    16684\n",
       "2012    16509\n",
       "2007    16252\n",
       "2010    16039\n",
       "2006    13979\n",
       "Name: original_title, dtype: int64"
      ]
     },
     "execution_count": 100,
     "metadata": {},
     "output_type": "execute_result"
    }
   ],
   "source": [
    "#display In which years were the largest number of movies produced \n",
    "year(df)"
   ]
  },
  {
   "cell_type": "code",
   "execution_count": 101,
   "metadata": {
    "scrolled": true
   },
   "outputs": [
    {
     "data": {
      "image/png": "[encoded data removed]",
      "text/plain": [
       "<Figure size 720x576 with 1 Axes>"
      ]
     },
     "metadata": {},
     "output_type": "display_data"
    }
   ],
   "source": [
    "#Visulaize In which years were the largest number of movies produced\n",
    "plt.subplots(figsize=(10, 8))\n",
    "plt.barh([\"2014\",\"2009\",\"2013\", \"2015\", \"2008\", \"2011\",\"2012\", \"2007\", \"2010\", \"2006\"],year(df), alpha=0.7)\n",
    "plt.title(\"In which years were the largest number of films produced?\")\n",
    "plt.ylabel(\"Years\")\n",
    "plt.xlabel(\"Number of Movies\");"
   ]
  },
  {
   "cell_type": "markdown",
   "metadata": {},
   "source": [
    "### Research Question 9  (Top ten production Companies that produced movies )"
   ]
  },
  {
   "cell_type": "markdown",
   "metadata": {},
   "source": [
    "***Looking for profit for each Producton Companies***"
   ]
  },
  {
   "cell_type": "code",
   "execution_count": 102,
   "metadata": {
    "scrolled": true
   },
   "outputs": [],
   "source": [
    "def company (df):\n",
    " companies=df.groupby(\"production_companies\")[\"profit\"].count()\n",
    " top_companies=companies.nlargest(10)\n",
    " return(top_companies)"
   ]
  },
  {
   "cell_type": "markdown",
   "metadata": {},
   "source": [
    "***Looking for Top ten production Companies that produced movies***"
   ]
  },
  {
   "cell_type": "code",
   "execution_count": 103,
   "metadata": {
    "scrolled": true
   },
   "outputs": [
    {
     "data": {
      "text/plain": [
       "production_companies\n",
       "Warner Bros.                              4995\n",
       "Universal Pictures                        4545\n",
       "Paramount Pictures                        3886\n",
       "Twentieth Century Fox Film Corporation    3220\n",
       "Walt Disney Pictures                      2700\n",
       "Columbia Pictures                         2655\n",
       "New Line Cinema                           2035\n",
       "Metro-Goldwyn-Mayer (MGM)                 1550\n",
       "Touchstone Pictures                       1510\n",
       "Columbia Pictures Corporation             1465\n",
       "Name: profit, dtype: int64"
      ]
     },
     "execution_count": 103,
     "metadata": {},
     "output_type": "execute_result"
    }
   ],
   "source": [
    "#display Top ten production Companies that produced movies\n",
    "company(df)"
   ]
  },
  {
   "cell_type": "code",
   "execution_count": 104,
   "metadata": {
    "scrolled": true
   },
   "outputs": [
    {
     "data": {
      "image/png": "[encoded data removed]",
      "text/plain": [
       "<Figure size 720x576 with 1 Axes>"
      ]
     },
     "metadata": {},
     "output_type": "display_data"
    }
   ],
   "source": [
    "#Visulaize Top ten production Companies that produced movies\n",
    "plt.subplots(figsize=(10, 8))\n",
    "plt.barh([\"Warner Bros\", \"Universal Pictures\", \"Paramount Pictures \",\"Walt Disney Pictures\", \"Twentieth Century Fox Film Corporation\", \"Columbia Pictures\", \"Metro-Goldwyn-Mayer (MGM)\",\"New Line Cinema\", \"Touchstone Pictures\", \"Columbia Pictures Corporation \" ],company(df))\n",
    "plt.title(\"Top 10 production Companies that produced movies\")\n",
    "plt.ylabel(\"Production Companies\")\n",
    "plt.xlabel(\"Number of Movies\");"
   ]
  },
  {
   "cell_type": "markdown",
   "metadata": {},
   "source": [
    "<a id='conclusions'></a>\n",
    "## Conclusions\n",
    "\n",
    "1. Chris Prat is the most popular actor\n",
    "2. Avatar is the most profitable movie\n",
    "3. The Correlation between Budget and Vote Average is positive so, if we increace our Budjet, The Vote Average will also increase a little bit\n",
    "4. Action is the most profitable genre\n",
    "5. Mark Cousins is the most director with the highest ratings\n",
    "6. The Correlation between Budget and Revenue is slightly positive so, if we increace our Budjet, The Revenue will also increase a little bit\n",
    "7. 2014 was the most profitabel year \n",
    "8. In 2014 the largest number of movies was produced\n",
    "9. Warner Bros is the most production Companies that produced movies\n",
    "\n",
    "### Limitations:\n",
    "1. There was many zero values which made an effect at the dataset and i replace them with nan values\n",
    "2. I filled nan values with mean so, this will make the dataset not very accurate \n",
    "  "
   ]
  },
  {
   "cell_type": "markdown",
   "metadata": {},
   "source": [
    "## Sources:\n",
    "1. [Pandas](https://pandas.pydata.org/docs/)\n",
    "2. [Numpy](https://numpy.org/doc/)\n",
    "3. [Kraggle](https://www.kaggle.com/)\n",
    "4. [Stack Overflow](https://stackoverflow.com/)"
   ]
  }
 ],
 "metadata": {
  "kernelspec": {
   "display_name": "Python 3",
   "language": "python",
   "name": "python3"
  },
  "language_info": {
   "codemirror_mode": {
    "name": "ipython",
    "version": 3
   },
   "file_extension": ".py",
   "mimetype": "text/x-python",
   "name": "python",
   "nbconvert_exporter": "python",
   "pygments_lexer": "ipython3",
   "version": "3.8.8"
  }
 },
 "nbformat": 4,
 "nbformat_minor": 2
}
